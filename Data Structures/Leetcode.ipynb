{
 "cells": [
  {
   "cell_type": "code",
   "execution_count": 33,
   "metadata": {},
   "outputs": [
    {
     "name": "stdout",
     "output_type": "stream",
     "text": [
      "[]\n",
      "[]\n",
      "['(']\n",
      "[]\n",
      "['{']\n"
     ]
    },
    {
     "data": {
      "text/plain": [
       "True"
      ]
     },
     "execution_count": 33,
     "metadata": {},
     "output_type": "execute_result"
    }
   ],
   "source": [
    "# https://leetcode.com/problems/valid-parentheses/description/\n",
    "\n",
    "s_list = [\"()[]{}\", \"(())\", \")(){}\"]\n",
    "\n",
    "\n",
    "def isValid(s) -> bool:\n",
    "        mapping  = {'(' : ')',\n",
    "                    '{' : '}',\n",
    "                    '[' : ']'}\n",
    "        \n",
    "        # initialise s \n",
    "        stack  = []\n",
    "\n",
    "        # process each bracket iteratively\n",
    "        for i in s:\n",
    "            \n",
    "            # If i is an opening, store in stack\n",
    "            if i in mapping.keys():\n",
    "                stack.append(i)\n",
    "            \n",
    "            # First Check stack has items\n",
    "            # If it closes the bracket, remove the item from stack\n",
    "            elif stack and i == mapping[stack[-1]]: \n",
    "                stack.pop(-1)\n",
    "            \n",
    "            else:\n",
    "                 return False\n",
    "\n",
    "        # Return False if stack has any values, meaning there are unclosed brackets\n",
    "        return False if stack else True\n",
    "\n",
    "[print(isValid(x)) for x in s_list]"
   ]
  },
  {
   "cell_type": "code",
   "execution_count": 19,
   "metadata": {},
   "outputs": [
    {
     "data": {
      "text/plain": [
       "[1, 2]"
      ]
     },
     "execution_count": 19,
     "metadata": {},
     "output_type": "execute_result"
    }
   ],
   "source": [
    "list = [1,2,3]\n",
    "\n",
    "list.pop(-1)\n",
    "\n",
    "list"
   ]
  }
 ],
 "metadata": {
  "kernelspec": {
   "display_name": "Python 3",
   "language": "python",
   "name": "python3"
  },
  "language_info": {
   "codemirror_mode": {
    "name": "ipython",
    "version": 3
   },
   "file_extension": ".py",
   "mimetype": "text/x-python",
   "name": "python",
   "nbconvert_exporter": "python",
   "pygments_lexer": "ipython3",
   "version": "3.10.7"
  },
  "orig_nbformat": 4
 },
 "nbformat": 4,
 "nbformat_minor": 2
}
