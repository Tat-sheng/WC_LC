{
 "cells": [
  {
   "cell_type": "markdown",
   "metadata": {},
   "source": [
    "**Stack**"
   ]
  },
  {
   "cell_type": "code",
   "execution_count": 35,
   "metadata": {},
   "outputs": [
    {
     "name": "stdout",
     "output_type": "stream",
     "text": [
      "True\n",
      "True\n",
      "False\n"
     ]
    },
    {
     "data": {
      "text/plain": [
       "[None, None, None]"
      ]
     },
     "execution_count": 35,
     "metadata": {},
     "output_type": "execute_result"
    }
   ],
   "source": [
    "# https://leetcode.com/problems/valid-parentheses/description/\n",
    "\n",
    "s_list = [\"()[]{}\", \"(())\", \")(){}\"]\n",
    "\n",
    "\n",
    "def isValid(s) -> bool:\n",
    "        mapping  = {'(' : ')',\n",
    "                    '{' : '}',\n",
    "                    '[' : ']'}\n",
    "        \n",
    "        # initialise s \n",
    "        stack  = []\n",
    "\n",
    "        # process each bracket iteratively\n",
    "        for i in s:\n",
    "            \n",
    "            # If i is an opening, store in stack\n",
    "            if i in mapping.keys():\n",
    "                stack.append(i)\n",
    "            \n",
    "            # First Check stack has items If it closes the bracket, remove the item from stack\n",
    "            elif stack and i == mapping[stack[-1]]: \n",
    "                stack.pop(-1)\n",
    "            \n",
    "            else:\n",
    "                 return False\n",
    "\n",
    "        # Return False if stack has any values, meaning there are unclosed brackets\n",
    "        return False if stack else True\n",
    "\n",
    "[print(isValid(x)) for x in s_list]"
   ]
  },
  {
   "cell_type": "code",
   "execution_count": 82,
   "metadata": {},
   "outputs": [
    {
     "name": "stdout",
     "output_type": "stream",
     "text": [
      "9\n",
      "6\n",
      "22\n"
     ]
    },
    {
     "data": {
      "text/plain": [
       "[None, None, None]"
      ]
     },
     "execution_count": 82,
     "metadata": {},
     "output_type": "execute_result"
    }
   ],
   "source": [
    "# https://leetcode.com/problems/evaluate-reverse-polish-notation/\n",
    "\n",
    "token_list = [\n",
    "    [\"2\",\"1\",\"+\",\"3\",\"*\"]\n",
    "    , [\"4\",\"13\",\"5\",\"/\",\"+\"]\n",
    "    , [\"10\",\"6\",\"9\",\"3\",\"+\",\"-11\",\"*\",\"/\",\"*\",\"17\",\"+\",\"5\",\"+\"]\n",
    "]\n",
    "\n",
    "def eval_helper(a,b,op):\n",
    "    if op == '/':\n",
    "        return str(int(int(a)/int(b)))\n",
    "\n",
    "    else: \n",
    "        return str(eval(a+op+b))\n",
    "    \n",
    "def evalRPN(tokens):\n",
    "    operators = ['+', '-', '*', '/']\n",
    "    stack = []\n",
    "\n",
    "    for i in tokens:\n",
    "        if i not in operators:\n",
    "            stack.append(i)\n",
    "        elif i in operators:\n",
    "            front, back = stack[-2], stack[-1]\n",
    "            stack.pop(-2)\n",
    "            stack.pop(-1)\n",
    "            stack.append(eval_helper(front, back, i))\n",
    "        \n",
    "    return int(stack[0])\n",
    "\n",
    "\n",
    "[print(evalRPN(x)) for x in token_list]"
   ]
  },
  {
   "cell_type": "code",
   "execution_count": 85,
   "metadata": {},
   "outputs": [
    {
     "name": "stdout",
     "output_type": "stream",
     "text": [
      "['()()()', '()(())', '(())()', '(()())', '((()))']\n",
      "['()()', '(())']\n",
      "['()']\n"
     ]
    },
    {
     "data": {
      "text/plain": [
       "[None, None, None]"
      ]
     },
     "execution_count": 85,
     "metadata": {},
     "output_type": "execute_result"
    }
   ],
   "source": [
    "# https://leetcode.com/problems/generate-parentheses\n",
    "\n",
    "# More efficient with DP => this is the suggested answer for learning \n",
    "\n",
    "from collections import deque\n",
    "n_list = [3, 2, 1]\n",
    "\n",
    "# Return true when () are correct, anytime it hits below 0 its False\n",
    "def isValid2(p_string): \n",
    "    left_count = 0\n",
    "    for i in p_string:\n",
    "        if i == '(':\n",
    "            left_count += 1\n",
    "        else:\n",
    "            left_count -= 1\n",
    "\n",
    "        if left_count < 0:\n",
    "            return False \n",
    "    return left_count == 0\n",
    "\n",
    "def generateParenthesis(n):\n",
    "    queue = deque([''])\n",
    "    answer_store = []\n",
    "\n",
    "    # While the queue is not empty\n",
    "    while queue: \n",
    "        # with each rerun, it takes away the previous ones that it adds on to\n",
    "        cur_string = queue.popleft() # adds both ( and ) with each iter, and stores each permutation\n",
    "\n",
    "        # Performs validity checks len == 2n and if its valid\n",
    "        if len(cur_string) == 2*n:\n",
    "            if isValid2(cur_string):\n",
    "                answer_store.append(cur_string)\n",
    "            continue\n",
    "\n",
    "        queue.append(cur_string+')')\n",
    "        queue.append(cur_string+'(')\n",
    "\n",
    "    return answer_store\n",
    "\n",
    "\n",
    "[print(generateParenthesis(x)) for x in n_list]"
   ]
  }
 ],
 "metadata": {
  "kernelspec": {
   "display_name": "Python 3",
   "language": "python",
   "name": "python3"
  },
  "language_info": {
   "codemirror_mode": {
    "name": "ipython",
    "version": 3
   },
   "file_extension": ".py",
   "mimetype": "text/x-python",
   "name": "python",
   "nbconvert_exporter": "python",
   "pygments_lexer": "ipython3",
   "version": "3.10.7"
  },
  "orig_nbformat": 4
 },
 "nbformat": 4,
 "nbformat_minor": 2
}
