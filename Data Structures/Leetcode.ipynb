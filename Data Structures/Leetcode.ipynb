{
 "cells": [
  {
   "cell_type": "markdown",
   "metadata": {},
   "source": [
    "**Stack**"
   ]
  },
  {
   "cell_type": "code",
   "execution_count": 35,
   "metadata": {},
   "outputs": [
    {
     "name": "stdout",
     "output_type": "stream",
     "text": [
      "True\n",
      "True\n",
      "False\n"
     ]
    },
    {
     "data": {
      "text/plain": [
       "[None, None, None]"
      ]
     },
     "execution_count": 35,
     "metadata": {},
     "output_type": "execute_result"
    }
   ],
   "source": [
    "# https://leetcode.com/problems/valid-parentheses/description/\n",
    "\n",
    "s_list = [\"()[]{}\", \"(())\", \")(){}\"]\n",
    "\n",
    "\n",
    "def isValid(s) -> bool:\n",
    "        mapping  = {'(' : ')',\n",
    "                    '{' : '}',\n",
    "                    '[' : ']'}\n",
    "        \n",
    "        # initialise s \n",
    "        stack  = []\n",
    "\n",
    "        # process each bracket iteratively\n",
    "        for i in s:\n",
    "            \n",
    "            # If i is an opening, store in stack\n",
    "            if i in mapping.keys():\n",
    "                stack.append(i)\n",
    "            \n",
    "            # First Check stack has items If it closes the bracket, remove the item from stack\n",
    "            elif stack and i == mapping[stack[-1]]: \n",
    "                stack.pop(-1)\n",
    "            \n",
    "            else:\n",
    "                 return False\n",
    "\n",
    "        # Return False if stack has any values, meaning there are unclosed brackets\n",
    "        return False if stack else True\n",
    "\n",
    "[print(isValid(x)) for x in s_list]"
   ]
  },
  {
   "cell_type": "code",
   "execution_count": 64,
   "metadata": {},
   "outputs": [
    {
     "name": "stdout",
     "output_type": "stream",
     "text": [
      "9\n",
      "6\n",
      "22\n"
     ]
    },
    {
     "data": {
      "text/plain": [
       "[None, None, None]"
      ]
     },
     "execution_count": 64,
     "metadata": {},
     "output_type": "execute_result"
    }
   ],
   "source": [
    "# https://leetcode.com/problems/evaluate-reverse-polish-notation/\n",
    "import math\n",
    "\n",
    "token_list = [\n",
    "    [\"2\",\"1\",\"+\",\"3\",\"*\"]\n",
    "    , [\"4\",\"13\",\"5\",\"/\",\"+\"]\n",
    "    , [\"10\",\"6\",\"9\",\"3\",\"+\",\"-11\",\"*\",\"/\",\"*\",\"17\",\"+\",\"5\",\"+\"]\n",
    "]\n",
    "\n",
    "def eval_helper(a,b,op):\n",
    "    if op == '/':\n",
    "        return str(int(int(a)/int(b)))\n",
    "\n",
    "    else: \n",
    "        return str(eval(a+op+b))\n",
    "    \n",
    "def evalRPN(tokens):\n",
    "    operators = ['+', '-', '*', '/']\n",
    "    stack = []\n",
    "\n",
    "    for i in tokens:\n",
    "        if i not in operators:\n",
    "            stack.append(i)\n",
    "        elif i in operators:\n",
    "            front, back = stack[-2], stack[-1]\n",
    "            stack.pop(-2)\n",
    "            stack.pop(-1)\n",
    "            stack.append(eval_helper(front, back, i))\n",
    "        \n",
    "    return stack[0]\n",
    "\n",
    "\n",
    "[print(evalRPN(x)) for x in token_list]"
   ]
  },
  {
   "cell_type": "code",
   "execution_count": 57,
   "metadata": {},
   "outputs": [
    {
     "data": {
      "text/plain": [
       "0"
      ]
     },
     "execution_count": 57,
     "metadata": {},
     "output_type": "execute_result"
    }
   ],
   "source": [
    "math.ceil(int(6)/int(-132))"
   ]
  }
 ],
 "metadata": {
  "kernelspec": {
   "display_name": "Python 3",
   "language": "python",
   "name": "python3"
  },
  "language_info": {
   "codemirror_mode": {
    "name": "ipython",
    "version": 3
   },
   "file_extension": ".py",
   "mimetype": "text/x-python",
   "name": "python",
   "nbconvert_exporter": "python",
   "pygments_lexer": "ipython3",
   "version": "3.10.7"
  },
  "orig_nbformat": 4
 },
 "nbformat": 4,
 "nbformat_minor": 2
}
