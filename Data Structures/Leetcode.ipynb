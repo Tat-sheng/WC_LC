{
 "cells": [
  {
   "cell_type": "code",
   "execution_count": 5,
   "metadata": {},
   "outputs": [
    {
     "data": {
      "text/plain": [
       "'a'"
      ]
     },
     "execution_count": 5,
     "metadata": {},
     "output_type": "execute_result"
    }
   ],
   "source": [
    "# https://leetcode.com/problems/valid-parentheses/description/\n",
    "\n",
    "s_list = [\"()[]{}\", \"(())\"]\n",
    "\n",
    "\n",
    "def isValid(s) -> bool:\n",
    "        mapping  = {'(' : ')',\n",
    "                    '{' : '}',\n",
    "                    '[' : ']'}\n",
    "        \n",
    "        # initialise s \n",
    "        stack  = []\n",
    "\n",
    "        # process each bracket iteratively\n",
    "        for i in s:\n",
    "            if i in mapping.keys():\n",
    "                stack.append(i)\n",
    "                \n",
    "\n",
    "        \n",
    "        \n",
    "\n",
    "\n",
    "isValid(s_list[0])"
   ]
  }
 ],
 "metadata": {
  "kernelspec": {
   "display_name": "Python 3",
   "language": "python",
   "name": "python3"
  },
  "language_info": {
   "codemirror_mode": {
    "name": "ipython",
    "version": 3
   },
   "file_extension": ".py",
   "mimetype": "text/x-python",
   "name": "python",
   "nbconvert_exporter": "python",
   "pygments_lexer": "ipython3",
   "version": "3.10.7"
  },
  "orig_nbformat": 4
 },
 "nbformat": 4,
 "nbformat_minor": 2
}
