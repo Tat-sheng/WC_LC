{
 "cells": [
  {
   "cell_type": "markdown",
   "metadata": {},
   "source": [
    "**Stack**"
   ]
  },
  {
   "cell_type": "code",
   "execution_count": 35,
   "metadata": {},
   "outputs": [
    {
     "name": "stdout",
     "output_type": "stream",
     "text": [
      "True\n",
      "True\n",
      "False\n"
     ]
    },
    {
     "data": {
      "text/plain": [
       "[None, None, None]"
      ]
     },
     "execution_count": 35,
     "metadata": {},
     "output_type": "execute_result"
    }
   ],
   "source": [
    "# https://leetcode.com/problems/valid-parentheses/description/\n",
    "\n",
    "s_list = [\"()[]{}\", \"(())\", \")(){}\"]\n",
    "\n",
    "\n",
    "def isValid(s) -> bool:\n",
    "        mapping  = {'(' : ')',\n",
    "                    '{' : '}',\n",
    "                    '[' : ']'}\n",
    "        \n",
    "        # initialise s \n",
    "        stack  = []\n",
    "\n",
    "        # process each bracket iteratively\n",
    "        for i in s:\n",
    "            \n",
    "            # If i is an opening, store in stack\n",
    "            if i in mapping.keys():\n",
    "                stack.append(i)\n",
    "            \n",
    "            # First Check stack has items If it closes the bracket, remove the item from stack\n",
    "            elif stack and i == mapping[stack[-1]]: \n",
    "                stack.pop(-1)\n",
    "            \n",
    "            else:\n",
    "                 return False\n",
    "\n",
    "        # Return False if stack has any values, meaning there are unclosed brackets\n",
    "        return False if stack else True\n",
    "\n",
    "[print(isValid(x)) for x in s_list]"
   ]
  },
  {
   "cell_type": "code",
   "execution_count": 82,
   "metadata": {},
   "outputs": [
    {
     "name": "stdout",
     "output_type": "stream",
     "text": [
      "9\n",
      "6\n",
      "22\n"
     ]
    },
    {
     "data": {
      "text/plain": [
       "[None, None, None]"
      ]
     },
     "execution_count": 82,
     "metadata": {},
     "output_type": "execute_result"
    }
   ],
   "source": [
    "# https://leetcode.com/problems/evaluate-reverse-polish-notation/\n",
    "\n",
    "token_list = [\n",
    "    [\"2\",\"1\",\"+\",\"3\",\"*\"]\n",
    "    , [\"4\",\"13\",\"5\",\"/\",\"+\"]\n",
    "    , [\"10\",\"6\",\"9\",\"3\",\"+\",\"-11\",\"*\",\"/\",\"*\",\"17\",\"+\",\"5\",\"+\"]\n",
    "]\n",
    "\n",
    "def eval_helper(a,b,op):\n",
    "    if op == '/':\n",
    "        return str(int(int(a)/int(b)))\n",
    "\n",
    "    else: \n",
    "        return str(eval(a+op+b))\n",
    "    \n",
    "def evalRPN(tokens):\n",
    "    operators = ['+', '-', '*', '/']\n",
    "    stack = []\n",
    "\n",
    "    for i in tokens:\n",
    "        if i not in operators:\n",
    "            stack.append(i)\n",
    "        elif i in operators:\n",
    "            front, back = stack[-2], stack[-1]\n",
    "            stack.pop(-2)\n",
    "            stack.pop(-1)\n",
    "            stack.append(eval_helper(front, back, i))\n",
    "        \n",
    "    return int(stack[0])\n",
    "\n",
    "\n",
    "[print(evalRPN(x)) for x in token_list]"
   ]
  },
  {
   "cell_type": "code",
   "execution_count": 85,
   "metadata": {},
   "outputs": [
    {
     "name": "stdout",
     "output_type": "stream",
     "text": [
      "['()()()', '()(())', '(())()', '(()())', '((()))']\n",
      "['()()', '(())']\n",
      "['()']\n"
     ]
    },
    {
     "data": {
      "text/plain": [
       "[None, None, None]"
      ]
     },
     "execution_count": 85,
     "metadata": {},
     "output_type": "execute_result"
    }
   ],
   "source": [
    "# https://leetcode.com/problems/generate-parentheses\n",
    "\n",
    "# More efficient with DP => this is the suggested answer for learning \n",
    "\n",
    "from collections import deque\n",
    "n_list = [3, 2, 1]\n",
    "\n",
    "# Return true when () are correct, anytime it hits below 0 its False\n",
    "def isValid2(p_string): \n",
    "    left_count = 0\n",
    "    for i in p_string:\n",
    "        if i == '(':\n",
    "            left_count += 1\n",
    "        else:\n",
    "            left_count -= 1\n",
    "\n",
    "        if left_count < 0:\n",
    "            return False \n",
    "    return left_count == 0\n",
    "\n",
    "def generateParenthesis(n):\n",
    "    queue = deque([''])\n",
    "    answer_store = []\n",
    "\n",
    "    # While the queue is not empty\n",
    "    while queue: \n",
    "        # with each rerun, it takes away the previous ones that it adds on to\n",
    "        cur_string = queue.popleft() # adds both ( and ) with each iter, and stores each permutation\n",
    "\n",
    "        # Performs validity checks len == 2n and if its valid\n",
    "        if len(cur_string) == 2*n:\n",
    "            if isValid2(cur_string):\n",
    "                answer_store.append(cur_string)\n",
    "            continue\n",
    "\n",
    "        queue.append(cur_string+')')\n",
    "        queue.append(cur_string+'(')\n",
    "\n",
    "    return answer_store\n",
    "\n",
    "\n",
    "[print(generateParenthesis(x)) for x in n_list]"
   ]
  },
  {
   "cell_type": "code",
   "execution_count": 16,
   "metadata": {},
   "outputs": [
    {
     "name": "stdout",
     "output_type": "stream",
     "text": [
      "0 73\n",
      "[]\n",
      "[0, 0, 0, 0, 0, 0, 0, 0]\n",
      "1 74\n",
      "[]\n",
      "[1, 0, 0, 0, 0, 0, 0, 0]\n",
      "2 75\n",
      "[]\n",
      "[1, 1, 0, 0, 0, 0, 0, 0]\n",
      "3 71\n",
      "[2]\n",
      "[1, 1, 0, 0, 0, 0, 0, 0]\n",
      "4 69\n",
      "[2, 3]\n",
      "[1, 1, 0, 0, 0, 0, 0, 0]\n",
      "5 72\n",
      "[2]\n",
      "[1, 1, 0, 2, 1, 0, 0, 0]\n",
      "6 76\n",
      "[]\n",
      "[1, 1, 4, 2, 1, 1, 0, 0]\n",
      "7 73\n",
      "[6]\n",
      "[1, 1, 4, 2, 1, 1, 0, 0]\n",
      "[1, 1, 4, 2, 1, 1, 0, 0]\n"
     ]
    },
    {
     "data": {
      "text/plain": [
       "[None]"
      ]
     },
     "execution_count": 16,
     "metadata": {},
     "output_type": "execute_result"
    }
   ],
   "source": [
    "# https://leetcode.com/problems/daily-temperatures/\n",
    "\n",
    "\n",
    "temp_list = [\n",
    "    [73,74,75,71,69,72,76,73]\n",
    "    # , [30,40,50,60]\n",
    "    # , [30,60,90],\n",
    "    # [77,77,77,77,77,41,77,41,41,77]\n",
    "]\n",
    "\n",
    "# brute force method\n",
    "\n",
    "def dailyTemperatures_brute(temperatures):\n",
    "\n",
    "    i, j= 0, 1\n",
    "    temp_len = len(temperatures) \n",
    "    stack = [0 for i in range(len(temperatures))]\n",
    "\n",
    "    while i <= temp_len-2:\n",
    "        # Reset j\n",
    "        j = i\n",
    "        # Create counter \n",
    "        days = 1\n",
    "\n",
    "        if temperatures[i] < temperatures[i+1]:\n",
    "            stack[i] = 1\n",
    "            i += 1\n",
    "        else: \n",
    "            for k in range(j+1, temp_len):\n",
    "                if temperatures[i] < temperatures[k]:\n",
    "                    stack[i] = days\n",
    "                    break\n",
    "                else: \n",
    "                    days += 1\n",
    "                    continue\n",
    "            i+=1\n",
    "\n",
    "\n",
    "    return stack[0:len(temperatures)]\n",
    "\n",
    "# Monotonic stack: search for next greatest item in stack by comparing then popping one and appending the other O(1) \n",
    "\n",
    "def dailyTemperatures(temperatures):\n",
    "    answer = [0 for x in range(len(temperatures))]\n",
    "\n",
    "    # The stack only stores the days that dont have higher temperatures, \n",
    "    stack = []\n",
    "    \n",
    "    for curr_day, curr_temp in enumerate(temperatures):\n",
    "        print(curr_day, curr_temp)\n",
    "        # Every iter, the curr day is appended to the stack\n",
    "        # Every time a temperature is higher than the last item in stack, its popped \n",
    "                # And you store the value in the place of its position in answer\n",
    "        # Otherwise it remains\n",
    "        while stack and temperatures[stack[-1]] < curr_temp:\n",
    "            prev_day = stack.pop()\n",
    "            answer[prev_day] = curr_day - prev_day\n",
    "        print(stack)\n",
    "        print(answer)\n",
    "        stack.append(curr_day)\n",
    "    return answer\n",
    "\n",
    "[print(dailyTemperatures(x)) for x in temp_list]"
   ]
  },
  {
   "cell_type": "markdown",
   "metadata": {},
   "source": [
    "**Array**"
   ]
  },
  {
   "cell_type": "code",
   "execution_count": 21,
   "metadata": {},
   "outputs": [
    {
     "name": "stdout",
     "output_type": "stream",
     "text": [
      "True\n",
      "False\n",
      "True\n"
     ]
    },
    {
     "data": {
      "text/plain": [
       "[None, None, None]"
      ]
     },
     "execution_count": 21,
     "metadata": {},
     "output_type": "execute_result"
    }
   ],
   "source": [
    "# https://leetcode.com/problems/contains-duplicate/\n",
    "\n",
    "n_list_1 = [\n",
    "    [1,2,3,1]\n",
    "    , [1,2,3,4]\n",
    "    , [1,1,1,3,3,4,3,2,4,2]\n",
    "]\n",
    "\n",
    "def containsDuplicate(nums):\n",
    "    n = len(nums)\n",
    "    nums.sort()\n",
    "    for i in range(1, n):\n",
    "        if nums[i] == nums[i-1]:\n",
    "            return True \n",
    "    return False\n",
    "\n",
    "[print(containsDuplicate(x)) for x in n_list_1]"
   ]
  },
  {
   "cell_type": "code",
   "execution_count": 34,
   "metadata": {},
   "outputs": [
    {
     "name": "stdout",
     "output_type": "stream",
     "text": [
      "False\n",
      "True\n",
      "False\n"
     ]
    },
    {
     "data": {
      "text/plain": [
       "[None, None, None]"
      ]
     },
     "execution_count": 34,
     "metadata": {},
     "output_type": "execute_result"
    }
   ],
   "source": [
    "# https://leetcode.com/problems/valid-anagram/\n",
    "\n",
    "anag_list = [\n",
    "    ['car', 'rat']\n",
    "    , ['anagram', 'nagaram']\n",
    "    , ['ccac', 'aacc']\n",
    "]\n",
    "\n",
    "# Easy method\n",
    "def isAnagram_easy(s,t):\n",
    "    return sorted(t) == sorted(s)\n",
    "\n",
    "\n",
    "# Frequency Counter method\n",
    "def isAnagram(s, t):\n",
    "    hash = {}\n",
    "    for i in s:\n",
    "        if i in hash.keys():\n",
    "            hash[i]+=1\n",
    "        else: \n",
    "            hash[i] = 1\n",
    "    for j in t:\n",
    "        if j in hash.keys():\n",
    "            hash[j]-=1\n",
    "        else: \n",
    "            hash[j] = 1\n",
    "\n",
    "    return all(value == 0 for value in hash.values())\n",
    "\n",
    "\n",
    "\n",
    "[print(isAnagram_easy(x[0], x[1])) for x in anag_list]"
   ]
  },
  {
   "cell_type": "code",
   "execution_count": 20,
   "metadata": {},
   "outputs": [
    {
     "name": "stdout",
     "output_type": "stream",
     "text": [
      "[0, 1]\n",
      "[1, 2]\n",
      "[0, 1]\n"
     ]
    },
    {
     "data": {
      "text/plain": [
       "[None, None, None]"
      ]
     },
     "execution_count": 20,
     "metadata": {},
     "output_type": "execute_result"
    }
   ],
   "source": [
    "# https://leetcode.com/problems/two-sum/\n",
    "\n",
    "nums_list_2 =[\n",
    "    [[2,7,11,15], 9]\n",
    "    , [[3,2,4], 6]\n",
    "    , [[3,3], 6]\n",
    "]\n",
    "\n",
    "def twoSum(nums, target):\n",
    "    hashmap = {}\n",
    "    n = len(nums)\n",
    "\n",
    "    for i in range(n): \n",
    "        if nums[i] not in hashmap.keys(): \n",
    "            hashmap[target - nums[i]] = i\n",
    "        else: \n",
    "            return [hashmap[nums[i]], i]\n",
    "\n",
    "\n",
    "[print(twoSum(x[0], x[1])) for x in nums_list_2]"
   ]
  },
  {
   "cell_type": "code",
   "execution_count": 34,
   "metadata": {},
   "outputs": [
    {
     "name": "stdout",
     "output_type": "stream",
     "text": [
      "[['eat', 'tea', 'ate'], ['tan', 'nat'], ['bat']]\n",
      "[['']]\n",
      "[['a']]\n"
     ]
    },
    {
     "data": {
      "text/plain": [
       "[None, None, None]"
      ]
     },
     "execution_count": 34,
     "metadata": {},
     "output_type": "execute_result"
    }
   ],
   "source": [
    "# https://leetcode.com/problems/group-anagrams/\n",
    "\n",
    "strs_list = [\n",
    "    [\"eat\",\"tea\",\"tan\",\"ate\",\"nat\",\"bat\"]\n",
    "    , [\"\"]\n",
    "    , [\"a\"]\n",
    "]\n",
    "\n",
    "def groupAnagrams(strs):\n",
    "    hashtable = {}\n",
    "    for i in strs: \n",
    "        a = ''.join(sorted(i))\n",
    "        if a not in hashtable.keys():\n",
    "            hashtable[a] = [i]\n",
    "        else:\n",
    "            hashtable[a].append(i)\n",
    "    return [hashtable[x] for x in hashtable.keys()]\n",
    "\n",
    "[print(groupAnagrams(x)) for x in strs_list]"
   ]
  },
  {
   "cell_type": "code",
   "execution_count": 88,
   "metadata": {},
   "outputs": [
    {
     "name": "stdout",
     "output_type": "stream",
     "text": [
      "[1, 2]\n",
      "[1]\n"
     ]
    },
    {
     "data": {
      "text/plain": [
       "[None, None]"
      ]
     },
     "execution_count": 88,
     "metadata": {},
     "output_type": "execute_result"
    }
   ],
   "source": [
    "# https://leetcode.com/problems/top-k-frequent-elements/\n",
    "\n",
    "kfreq_list = [\n",
    "    [[1,1,1,2,2,3], 2]\n",
    "    , [[1], 1]\n",
    "]\n",
    "\n",
    "from collections import Counter\n",
    "import heapq\n",
    "\n",
    "# Naive method \n",
    "def topKFrequent_no_repeats(nums, k):\n",
    "\n",
    "        hashmap = {}\n",
    "        #====================================================\n",
    "        # you can use collections counter instead of this \n",
    "        for i in nums:\n",
    "            if i in hashmap.keys():\n",
    "                hashmap[i] += 1\n",
    "            else:\n",
    "                hashmap[i] = 1\n",
    "        #====================================================\n",
    "        # list_of_counts = sorted(list(hashmap.values()))[-k:]\n",
    "        # out = []\n",
    "        # for i in list_of_counts:\n",
    "        #     for k, v in hashmap.items():\n",
    "        #         if v == i:\n",
    "        #             out.append(k)\n",
    "        # return out\n",
    "\n",
    "        # This method basically performs the above the right way, sorted on a dict values\n",
    "        return sorted(hashmap.keys(), key = hashmap.get, reverse = True)[:k] \n",
    "\n",
    "\n",
    "def topKFrequent(nums, k):\n",
    "     if k == len(nums): \n",
    "          return nums\n",
    "     count = Counter(nums)\n",
    "     return heapq.nlargest(k, count.keys(), key=count.get)\n",
    "\n",
    "\n",
    "[print(topKFrequent(x[0], x[1])) for x in kfreq_list]\n",
    "\n",
    "\n",
    "# [print(topKFrequent_no_repeats(x[0], x[1])) for x in kfreq_list]"
   ]
  },
  {
   "cell_type": "code",
   "execution_count": 15,
   "metadata": {},
   "outputs": [
    {
     "name": "stdout",
     "output_type": "stream",
     "text": [
      "True\n",
      "False\n",
      "True\n",
      "True\n"
     ]
    },
    {
     "data": {
      "text/plain": [
       "[None, None, None, None]"
      ]
     },
     "execution_count": 15,
     "metadata": {},
     "output_type": "execute_result"
    }
   ],
   "source": [
    "# https://leetcode.com/problems/valid-palindrome/\n",
    "\n",
    "s_list_ = [\n",
    "    \"A man, a plan, a canal: Panama\"\n",
    "    , \"race a car\"\n",
    "    , \" \"\n",
    "    , \"aa\"\n",
    "]\n",
    "\n",
    "import re\n",
    "\n",
    "# Easy method\n",
    "def isPalindrome_trivial(s):\n",
    "    # interesting string manipulation\n",
    "    s = s.lower()\n",
    "    s = re.sub(r'[^a-z]', '', s)\n",
    "\n",
    "    return s == s[::-1]\n",
    "\n",
    "# Two points method for learning \n",
    "def isPalindrome(s):\n",
    "    s = s.lower()\n",
    "    s = re.sub(r'[^a-z0-9]', '', s)\n",
    "\n",
    "    if s =='': \n",
    "        return True\n",
    "    \n",
    "    # efficient two pointers technique\n",
    "    n = len(s)\n",
    "    i = 0 \n",
    "    j = n-1\n",
    "\n",
    "    while i < j:\n",
    "        if s[i] == s[j]:\n",
    "            i+=1\n",
    "            j-=1\n",
    "        else: \n",
    "            return False\n",
    "    \n",
    "    return True\n",
    "\n",
    "[print(isPalindrome_trivial(x)) for x in s_list_]"
   ]
  },
  {
   "cell_type": "code",
   "execution_count": 19,
   "metadata": {},
   "outputs": [
    {
     "name": "stdout",
     "output_type": "stream",
     "text": [
      "[1, 2]\n",
      "[1, 3]\n",
      "[1, 2]\n"
     ]
    },
    {
     "data": {
      "text/plain": [
       "[None, None, None]"
      ]
     },
     "execution_count": 19,
     "metadata": {},
     "output_type": "execute_result"
    }
   ],
   "source": [
    "nums_list_3 =[\n",
    "    [[2,7,11,15], 9]\n",
    "    , [[2,3,4], 6]\n",
    "    , [[-1,0], -1]\n",
    "]\n",
    "\n",
    "\n",
    "def twoSum2(numbers, target):\n",
    "    i = 0\n",
    "    j = len(numbers) - 1\n",
    "\n",
    "    while i<j:\n",
    "        if numbers[i] + numbers [j] < target:\n",
    "            i+=1\n",
    "        elif numbers[i] + numbers[j] > target:\n",
    "            j-=1\n",
    "        else: \n",
    "            return [i+1, j+1]\n",
    "\n",
    "    return False\n",
    "\n",
    "\n",
    "[print(twoSum2(x[0], x[1])) for x in nums_list_3]"
   ]
  },
  {
   "cell_type": "code",
   "execution_count": 59,
   "metadata": {},
   "outputs": [
    {
     "name": "stdout",
     "output_type": "stream",
     "text": [
      "[[-1, -1, 2], [-1, 0, 1]]\n",
      "[]\n",
      "[[0, 0, 0]]\n",
      "[[0, 0, 0]]\n",
      "[[-2, 0, 2], [-2, 1, 1]]\n"
     ]
    },
    {
     "data": {
      "text/plain": [
       "[None, None, None, None, None]"
      ]
     },
     "execution_count": 59,
     "metadata": {},
     "output_type": "execute_result"
    }
   ],
   "source": [
    "# https://leetcode.com/problems/3sum/\n",
    "\n",
    "nums_list_4 =[\n",
    "    [-1,0,1,2,-1,-4]\n",
    "    , [0,1,1]\n",
    "    , [0,0,0]\n",
    "    , [0,0,0,0]\n",
    "    , [-2,0,1,1,2]\n",
    "]\n",
    "\n",
    "def threeSum(nums):\n",
    "    n = len(nums)\n",
    "    ans = []\n",
    "    nums = sorted(nums)\n",
    "\n",
    "    for i in range(n):\n",
    "        j = i+1\n",
    "        k = n-1\n",
    "        while j<k:\n",
    "            if nums[i]+nums[j]+nums[k] == 0:\n",
    "                if [nums[i], nums[j], nums[k]] in ans: \n",
    "                    j+=1\n",
    "                else:\n",
    "                    ans.append([nums[i], nums[j], nums[k]])\n",
    "                    j+=1\n",
    "            elif nums[i]+nums[j]+nums[k] < 0:\n",
    "                j+=1\n",
    "            elif nums[i]+nums[j]+nums[k] > 0:\n",
    "                k-=1\n",
    "\n",
    "    return ans\n",
    "\n",
    "\n",
    "[print(threeSum(x)) for x in nums_list_4]"
   ]
  },
  {
   "cell_type": "code",
   "execution_count": 8,
   "metadata": {},
   "outputs": [
    {
     "name": "stdout",
     "output_type": "stream",
     "text": [
      "49\n",
      "1\n",
      "17\n",
      "16\n"
     ]
    },
    {
     "data": {
      "text/plain": [
       "[None, None, None, None]"
      ]
     },
     "execution_count": 8,
     "metadata": {},
     "output_type": "execute_result"
    }
   ],
   "source": [
    "# https://leetcode.com/problems/container-with-most-water/\n",
    "\n",
    "height_list = [\n",
    "    [1,8,6,2,5,4,8,3,7]\n",
    "    , [1,1]\n",
    "    , [2,3,4,5,18,17,6]\n",
    "    , \n",
    "    [4,3,2,1,4]\n",
    "]\n",
    "\n",
    "def maxArea_inefficient(height):\n",
    "    n = len(height)\n",
    "    j = n-1 # start from the back for the longest len\n",
    "    largest_area = []\n",
    "    for i in range(n):\n",
    "        j = n-1\n",
    "        while i<j:\n",
    "            # settle the area  =================================\n",
    "            hgt = min(height[i], height[j])\n",
    "            lgt = j - i\n",
    "            area = lgt * hgt\n",
    "            # ==================================================\n",
    "            if largest_area and area > largest_area[0]:\n",
    "                largest_area.pop(0)\n",
    "                largest_area.append(area)\n",
    "                j-=1\n",
    "            elif largest_area and area <= largest_area[0]:\n",
    "                j-=1\n",
    "            else:\n",
    "                largest_area.append(area)\n",
    "                j-=1\n",
    "\n",
    "    return largest_area[0]\n",
    "\n",
    "def maxArea(height):\n",
    "    n = len(height)\n",
    "    i = 0 \n",
    "    j = n-1\n",
    "    maxarea = 0\n",
    "\n",
    "    while i<j:\n",
    "        if height[i] > height[j]:\n",
    "            maxarea = max(maxarea, height[j]*(j-i))\n",
    "            j-=1\n",
    "        else:\n",
    "            maxarea = max(maxarea, height[i]*(j-i))\n",
    "            i+=1\n",
    "\n",
    "    return maxarea\n",
    "\n",
    "[print(maxArea(x)) for x in height_list]"
   ]
  },
  {
   "cell_type": "code",
   "execution_count": 35,
   "metadata": {},
   "outputs": [
    {
     "name": "stdout",
     "output_type": "stream",
     "text": [
      "5\n",
      "0\n",
      "3\n"
     ]
    },
    {
     "data": {
      "text/plain": [
       "[None, None, None]"
      ]
     },
     "execution_count": 35,
     "metadata": {},
     "output_type": "execute_result"
    }
   ],
   "source": [
    "# https://leetcode.com/problems/best-time-to-buy-and-sell-stock/\n",
    "\n",
    "stock_list = [\n",
    "    [7,1,5,3,6,4]\n",
    "    , [7,6,4,3,1]\n",
    "    , [2,1,4]\n",
    "]\n",
    "\n",
    "def maxProfit(prices):\n",
    "    n = len(prices)\n",
    "    min_price = prices[0]\n",
    "    maxprofit = 0\n",
    "    for i in range(n):\n",
    "        maxprofit = max(maxprofit, prices[i] - min_price)\n",
    "        min_price = min(min_price, prices[i])\n",
    "    return maxprofit\n",
    "\n",
    "\n",
    "[print(maxProfit(x)) for x in stock_list]"
   ]
  },
  {
   "cell_type": "code",
   "execution_count": 99,
   "metadata": {},
   "outputs": [
    {
     "name": "stdout",
     "output_type": "stream",
     "text": [
      "abcabcb\n",
      "abcabc\n",
      "bcabc\n",
      "abcab\n",
      "bcab\n",
      "cab\n",
      "3\n",
      "abb\n",
      "ab\n",
      "2\n"
     ]
    },
    {
     "data": {
      "text/plain": [
       "[None, None]"
      ]
     },
     "execution_count": 99,
     "metadata": {},
     "output_type": "execute_result"
    }
   ],
   "source": [
    "# https://leetcode.com/problems/longest-substring-without-repeating-characters/\n",
    "\n",
    "s_list_2 = [\n",
    "    \"abcabcbb\"\n",
    "    # , \"bbbbb\"\n",
    "    # , \"pwwkew\"\n",
    "    # , \"au\"\n",
    "    , \"abba\"\n",
    "]\n",
    "\n",
    "def allUnique(string):\n",
    "    return len(set(string)) == len(string)\n",
    "\n",
    "def lengthOfLongestSubstring(s):\n",
    "    n  = len(s)\n",
    "    for k in range(n, -1, -1):\n",
    "        for i in range(0, n-k):\n",
    "            print(s[i:k])\n",
    "            if allUnique(s[i:k]) == True:\n",
    "                return len(s[i:k])\n",
    "\n",
    "[print(lengthOfLongestSubstring(x)) for x in s_list_2]"
   ]
  },
  {
   "cell_type": "code",
   "execution_count": 3,
   "metadata": {},
   "outputs": [
    {
     "data": {
      "text/plain": [
       "17"
      ]
     },
     "execution_count": 3,
     "metadata": {},
     "output_type": "execute_result"
    }
   ],
   "source": [
    "# https://leetcode.com/discuss/interview-question/1437513/oa-goldmansachs\n",
    "\n",
    "rows, cols, initR, initC, finalR, finalC, costRows, costCols = 4, 4, 1, 0, 2, 3, [1,2,3], [4,5,6]\n",
    "\n",
    "# Ans is 17\n",
    "\n",
    "def solve_lg(r, c, init_r, init_c, final_r, final_c, costRows, costCols):\n",
    "    l_r, s_r = max(final_r, init_r), min(final_r, init_r)\n",
    "    l_c, s_c = max(final_c, init_c), min(final_c, init_c)\n",
    "    return sum(costRows[s_r:l_r]) + sum(costCols[s_c:l_c])\n",
    "\n",
    "solve_lg(rows, cols, initR, initC, finalR, finalC, costRows, costCols)"
   ]
  },
  {
   "cell_type": "code",
   "execution_count": 9,
   "metadata": {},
   "outputs": [
    {
     "name": "stdout",
     "output_type": "stream",
     "text": [
      "True\n",
      "True\n",
      "True\n"
     ]
    },
    {
     "data": {
      "text/plain": [
       "[None, None, None]"
      ]
     },
     "execution_count": 9,
     "metadata": {},
     "output_type": "execute_result"
    }
   ],
   "source": [
    "# https://www.hackerrank.com/challenges/string-compression/problem\n",
    "\n",
    "char_list = [\n",
    "    [\"a\",\"a\",\"b\",\"b\",\"c\",\"c\",\"c\"]\n",
    "    , [\"a\"]\n",
    "    , [\"a\",\"b\",\"b\",\"b\",\"b\",\"b\",\"b\",\"b\",\"b\",\"b\",\"b\",\"b\",\"b\"]\n",
    "]\n",
    "\n",
    "def compress(chars):\n",
    "    counter = 0\n",
    "\n",
    "\n",
    "            \n",
    "\n",
    "    return True\n",
    "\n",
    "\n",
    "[print(compress(x)) for x in char_list]"
   ]
  },
  {
   "cell_type": "markdown",
   "metadata": {},
   "source": [
    "Probability and Stats\n",
    "- Area of Rectagle\n",
    "- Fair Coin toss\n",
    "- Convolution\n",
    "- Modified Gene"
   ]
  },
  {
   "cell_type": "code",
   "execution_count": null,
   "metadata": {},
   "outputs": [],
   "source": [
    "#commit sake"
   ]
  },
  {
   "cell_type": "markdown",
   "metadata": {},
   "source": [
    "Calculus\n",
    "- Limit \n",
    "- Series 2\n",
    "- Differentiation 2"
   ]
  },
  {
   "cell_type": "markdown",
   "metadata": {},
   "source": [
    "Lin algebra\n",
    "- Linear system\n",
    "- Linear matching\n",
    "- Property 2"
   ]
  }
 ],
 "metadata": {
  "kernelspec": {
   "display_name": "Python 3",
   "language": "python",
   "name": "python3"
  },
  "language_info": {
   "codemirror_mode": {
    "name": "ipython",
    "version": 3
   },
   "file_extension": ".py",
   "mimetype": "text/x-python",
   "name": "python",
   "nbconvert_exporter": "python",
   "pygments_lexer": "ipython3",
   "version": "3.10.7"
  },
  "orig_nbformat": 4
 },
 "nbformat": 4,
 "nbformat_minor": 2
}
